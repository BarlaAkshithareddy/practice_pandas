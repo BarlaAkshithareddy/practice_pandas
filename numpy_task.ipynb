{
 "cells": [
  {
   "cell_type": "code",
   "execution_count": 1,
   "id": "1a43bb6b",
   "metadata": {},
   "outputs": [],
   "source": [
    "import pandas as pd\n",
    "import numpy as np"
   ]
  },
  {
   "cell_type": "code",
   "execution_count": 6,
   "id": "971d7e1c",
   "metadata": {},
   "outputs": [
    {
     "name": "stdout",
     "output_type": "stream",
     "text": [
      "[10 11 12 13 14 15 16 17 18 19 20 21 22 23 24 25 26 27 28 29 30 31 32 33\n",
      " 34 35 36 37 38 39 40 41 42 43 44 45 46 47 48 49 50]\n"
     ]
    }
   ],
   "source": [
    "# Create a 1D array from 10 to 50\n",
    "arr1=np.arange(10,51)\n",
    "print(arr1)"
   ]
  },
  {
   "cell_type": "code",
   "execution_count": 10,
   "id": "25e7cced",
   "metadata": {},
   "outputs": [
    {
     "name": "stdout",
     "output_type": "stream",
     "text": [
      "[[0.43449598 0.62001688 0.62644782]\n",
      " [0.86597635 0.43168947 0.91451409]\n",
      " [0.79241042 0.3964599  0.58115536]]\n"
     ]
    }
   ],
   "source": [
    "# Create a 3x3 array of random numbers between 0 and 1\n",
    "arr2=np.random.random((3,3))\n",
    "print(arr2)"
   ]
  },
  {
   "cell_type": "code",
   "execution_count": 14,
   "id": "2c2e5b6b",
   "metadata": {},
   "outputs": [
    {
     "name": "stdout",
     "output_type": "stream",
     "text": [
      "(3, 3)\n",
      "9\n",
      "float64\n"
     ]
    }
   ],
   "source": [
    "#Find the shape, size, and data type of the array you created in the previous task.\n",
    "print(arr2.shape)\n",
    "print(arr2.size)\n",
    "print(arr2.dtype)"
   ]
  },
  {
   "cell_type": "code",
   "execution_count": 15,
   "id": "4ae2aa6e",
   "metadata": {},
   "outputs": [
    {
     "name": "stdout",
     "output_type": "stream",
     "text": [
      "[15 16 17 18 19 20 21 22 23 24 25 26 27 28 29 30 31 32 33 34 35 36 37 38\n",
      " 39 40 41 42 43 44 45 46 47 48 49 50 51 52 53 54 55]\n"
     ]
    }
   ],
   "source": [
    "#Add 5 to every element of a 1D array\n",
    "arr1_5=arr1+5\n",
    "print(arr1_5)"
   ]
  },
  {
   "cell_type": "code",
   "execution_count": 41,
   "id": "185ec1a7",
   "metadata": {},
   "outputs": [
    {
     "name": "stdout",
     "output_type": "stream",
     "text": [
      "[ 6  6 20 30]\n"
     ]
    }
   ],
   "source": [
    "#Multiply two 2D arrays element-wise.\n",
    "a= np.array([2,3,4,5])\n",
    "b = np.array([3,2,5,6])\n",
    "result = a*b\n",
    "print(result)"
   ]
  },
  {
   "cell_type": "code",
   "execution_count": 24,
   "id": "08f694db",
   "metadata": {},
   "outputs": [
    {
     "name": "stdout",
     "output_type": "stream",
     "text": [
      "[[ 1  2  3  4  5]\n",
      " [ 6  7  8  9 10]\n",
      " [11 12 13 14 15]\n",
      " [16 17 18 19 20]\n",
      " [21 22 23 24 25]]\n",
      "[1 2 3 4 5]\n",
      "[ 5 10 15 20 25]\n",
      "[[ 1  2]\n",
      " [ 6  7]\n",
      " [11 12]]\n"
     ]
    }
   ],
   "source": [
    "#first row,last row and first three rows and first two columns\n",
    "ar=np.arange(1,26).reshape(5,5)\n",
    "print(ar)\n",
    "print(ar[0,:])\n",
    "print(ar[:,-1])\n",
    "print(ar[:3,:2])"
   ]
  },
  {
   "cell_type": "code",
   "execution_count": 27,
   "id": "f08b4ff9",
   "metadata": {},
   "outputs": [
    {
     "name": "stdout",
     "output_type": "stream",
     "text": [
      "90\n",
      "4\n",
      "39.9\n",
      "26.296197443736993\n"
     ]
    }
   ],
   "source": [
    "random_arr = np.random.randint(1, 101, size=10)\n",
    "max_value=np.max(random_arr)\n",
    "print(max_value)\n",
    "min_value=np.min(random_arr)\n",
    "print(min_value)\n",
    "mean_value = np.mean(random_arr)\n",
    "print(mean_value)\n",
    "std_dev_value = np.std(random_arr)\n",
    "print(std_dev_value)"
   ]
  },
  {
   "cell_type": "code",
   "execution_count": 28,
   "id": "0d46639a",
   "metadata": {},
   "outputs": [
    {
     "name": "stdout",
     "output_type": "stream",
     "text": [
      "[ 1  2  3  4  5  6  7  8  9 10 11 12]\n",
      "[[ 1  2  3  4]\n",
      " [ 5  6  7  8]\n",
      " [ 9 10 11 12]]\n"
     ]
    }
   ],
   "source": [
    "#Converting a 1D array of numbers from 1 to 12 into a 3x4 matrix.\n",
    "array_1d = np.arange(1, 13)\n",
    "print(array_1d)\n",
    "matrix_3x4 = array_1d.reshape(3, 4)\n",
    "print(matrix_3x4)"
   ]
  },
  {
   "cell_type": "code",
   "execution_count": 31,
   "id": "0cfa3dab",
   "metadata": {},
   "outputs": [
    {
     "name": "stdout",
     "output_type": "stream",
     "text": [
      "[[1. 2. 3.]\n",
      " [1. 2. 3.]\n",
      " [1. 2. 3.]]\n"
     ]
    }
   ],
   "source": [
    "#3x3 matrix of ones and Adding a 1D array [1, 2, 3] to each row\n",
    "matrix_ones = np.ones((3, 3))\n",
    "array_1d = np.array([0, 1, 2])\n",
    "result = matrix_ones + array_1d\n",
    "print(result)"
   ]
  },
  {
   "cell_type": "code",
   "execution_count": 38,
   "id": "e2d8e0d4",
   "metadata": {},
   "outputs": [
    {
     "name": "stdout",
     "output_type": "stream",
     "text": [
      "[ 5 10 15 20 25 30 35 40 45 50]\n"
     ]
    }
   ],
   "source": [
    "#Creating a 1D array of random integers between 1 and 50. Extract all elements that are divisible by 5.\n",
    "arr = np.arange(1, 51)\n",
    "div5 = arr[arr % 5 == 0]\n",
    "print(div5)"
   ]
  },
  {
   "cell_type": "code",
   "execution_count": 39,
   "id": "c4b89ac5",
   "metadata": {},
   "outputs": [
    {
     "name": "stdout",
     "output_type": "stream",
     "text": [
      "[[19 22]\n",
      " [43 50]]\n"
     ]
    }
   ],
   "source": [
    "#Creating two 2x2 matrices and perform matrix multiplication.\n",
    "matrix_1 = np.array([[1, 2], [3, 4]])\n",
    "matrix_2 = np.array([[5, 6], [7, 8]])\n",
    "result = np.dot(matrix_1, matrix_2)\n",
    "print(result)\n"
   ]
  },
  {
   "cell_type": "code",
   "execution_count": 40,
   "id": "e12ae807",
   "metadata": {},
   "outputs": [
    {
     "name": "stdout",
     "output_type": "stream",
     "text": [
      "[ 1  6 11 16]\n"
     ]
    }
   ],
   "source": [
    "#Given a 4x4 array, use fancy indexing to extract the diagonal elements.\n",
    "arr = np.array([[1, 2, 3, 4],\n",
    "                [5, 6, 7, 8],\n",
    "                [9, 10, 11, 12],\n",
    "                [13, 14, 15, 16]])\n",
    "diagonal_elements = arr[np.arange(4), np.arange(4)]\n",
    "print(diagonal_elements)"
   ]
  },
  {
   "cell_type": "code",
   "execution_count": null,
   "id": "3c533797",
   "metadata": {},
   "outputs": [],
   "source": []
  }
 ],
 "metadata": {
  "kernelspec": {
   "display_name": "Python 3 (ipykernel)",
   "language": "python",
   "name": "python3"
  },
  "language_info": {
   "codemirror_mode": {
    "name": "ipython",
    "version": 3
   },
   "file_extension": ".py",
   "mimetype": "text/x-python",
   "name": "python",
   "nbconvert_exporter": "python",
   "pygments_lexer": "ipython3",
   "version": "3.10.9"
  }
 },
 "nbformat": 4,
 "nbformat_minor": 5
}
