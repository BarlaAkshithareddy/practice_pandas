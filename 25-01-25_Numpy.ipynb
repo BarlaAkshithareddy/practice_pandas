{
 "cells": [
  {
   "cell_type": "code",
   "execution_count": 1,
   "id": "2af1b4eb",
   "metadata": {},
   "outputs": [
    {
     "name": "stdout",
     "output_type": "stream",
     "text": [
      "Requirement already satisfied: numpy in c:\\users\\cvr\\anaconda3\\lib\\site-packages (1.24.3)\n",
      "Note: you may need to restart the kernel to use updated packages.\n"
     ]
    }
   ],
   "source": [
    "pip install numpy"
   ]
  },
  {
   "cell_type": "code",
   "execution_count": 8,
   "id": "cc766166",
   "metadata": {},
   "outputs": [
    {
     "name": "stdout",
     "output_type": "stream",
     "text": [
      "[1 2 3 4]\n",
      "1\n",
      "[[1 2 3]\n",
      " [4 5 6]]\n",
      "[[1]\n",
      " [4]]\n"
     ]
    }
   ],
   "source": [
    "import numpy as np\n",
    "#1D Array\n",
    "arr_1d=np.array([1,2,3,4])\n",
    "print(arr_1d)\n",
    "print(arr_1d[0])\n",
    "#2D Array\n",
    "arr_2d=np.array([[1,2,3],[4,5,6]])\n",
    "print(arr_2d)\n",
    "print(arr_2d[:,0:1])"
   ]
  },
  {
   "cell_type": "code",
   "execution_count": 14,
   "id": "1cbf3864",
   "metadata": {},
   "outputs": [
    {
     "name": "stdout",
     "output_type": "stream",
     "text": [
      "[[0. 0. 0.]\n",
      " [0. 0. 0.]]\n",
      "[[1. 1. 1.]\n",
      " [1. 1. 1.]]\n"
     ]
    }
   ],
   "source": [
    "#array of zeros\n",
    "zeros=np.zeros((2,3))\n",
    "print(zeros)\n",
    "#array of zeros\n",
    "ones=np.ones((2,3))\n",
    "print(ones)"
   ]
  },
  {
   "cell_type": "code",
   "execution_count": 11,
   "id": "1b275249",
   "metadata": {},
   "outputs": [
    {
     "name": "stdout",
     "output_type": "stream",
     "text": [
      "[[0.80380335 0.27171912]\n",
      " [0.0786174  0.54350344]]\n"
     ]
    }
   ],
   "source": [
    "#Array of Random numbers\n",
    "random_arr=np.random.random((2,2))\n",
    "print(random_arr)"
   ]
  },
  {
   "cell_type": "code",
   "execution_count": 15,
   "id": "963986af",
   "metadata": {},
   "outputs": [
    {
     "name": "stdout",
     "output_type": "stream",
     "text": [
      "[[1. 0. 0.]\n",
      " [0. 1. 0.]\n",
      " [0. 0. 1.]]\n"
     ]
    }
   ],
   "source": [
    "#Identity matrix\n",
    "identity=np.eye(3)\n",
    "print(identity)"
   ]
  },
  {
   "cell_type": "code",
   "execution_count": 16,
   "id": "c70be0ab",
   "metadata": {},
   "outputs": [
    {
     "name": "stdout",
     "output_type": "stream",
     "text": [
      "[0 2 4 6 8]\n"
     ]
    }
   ],
   "source": [
    "#Array with a range of values\n",
    "range_arr=np.arange(0,10,2)\n",
    "print(range_arr)"
   ]
  },
  {
   "cell_type": "code",
   "execution_count": 18,
   "id": "b77dfd9d",
   "metadata": {},
   "outputs": [
    {
     "name": "stdout",
     "output_type": "stream",
     "text": [
      "Shape: (2, 3)\n",
      "size: 6\n",
      "data type: int32\n",
      "Dimension: 2\n"
     ]
    }
   ],
   "source": [
    "arr=np.array([[1,2,3],[4,5,6]])\n",
    "print(\"Shape:\",arr.shape)\n",
    "print(\"size:\",arr.size)\n",
    "print(\"data type:\",arr.dtype)\n",
    "print(\"Dimension:\",arr.ndim)"
   ]
  },
  {
   "cell_type": "code",
   "execution_count": 23,
   "id": "7f58f9a6",
   "metadata": {},
   "outputs": [
    {
     "name": "stdout",
     "output_type": "stream",
     "text": [
      "2\n",
      "6\n",
      "6\n"
     ]
    }
   ],
   "source": [
    "print(arr[0,1])\n",
    "print(arr[1,2])\n",
    "print(arr[1,-1])"
   ]
  },
  {
   "cell_type": "code",
   "execution_count": 26,
   "id": "c3dfb328",
   "metadata": {},
   "outputs": [
    {
     "name": "stdout",
     "output_type": "stream",
     "text": [
      "[[2 3]\n",
      " [5 6]]\n"
     ]
    }
   ],
   "source": [
    "print(arr[:,1:])"
   ]
  },
  {
   "cell_type": "code",
   "execution_count": 29,
   "id": "44ace99a",
   "metadata": {},
   "outputs": [
    {
     "name": "stdout",
     "output_type": "stream",
     "text": [
      "[ 5  8 11]\n",
      "[ 6 16 30]\n"
     ]
    }
   ],
   "source": [
    "arr1=np.array([2,4,6])\n",
    "arr2=np.array([3,4,5])\n",
    "print(arr1+arr2)\n",
    "print(arr1*arr2)"
   ]
  },
  {
   "cell_type": "code",
   "execution_count": 37,
   "id": "bafcf27b",
   "metadata": {},
   "outputs": [
    {
     "name": "stdout",
     "output_type": "stream",
     "text": [
      "[[ 2  2  9]\n",
      " [12 10 30]\n",
      " [21 16  9]]\n",
      "[[17 11 16]\n",
      " [41 26 43]\n",
      " [65 41 70]]\n"
     ]
    }
   ],
   "source": [
    "arr3=np.array([[1,2,3],[4,5,6],[7,8,9]])\n",
    "arr4=np.array([[2,1,3],[3,2,5],[3,2,1]])\n",
    "print(arr3*arr4)\n",
    "result=np.dot(arr3,arr4)\n",
    "print(result)"
   ]
  },
  {
   "cell_type": "code",
   "execution_count": 38,
   "id": "bbf7cfe7",
   "metadata": {},
   "outputs": [
    {
     "data": {
      "text/plain": [
       "[<matplotlib.lines.Line2D at 0x29ab70ed3d0>,\n",
       " <matplotlib.lines.Line2D at 0x29ab7109e90>,\n",
       " <matplotlib.lines.Line2D at 0x29ab710a190>]"
      ]
     },
     "execution_count": 38,
     "metadata": {},
     "output_type": "execute_result"
    },
    {
     "data": {
      "image/png": "[encoded data removed]",
      "text/plain": [
       "<Figure size 640x480 with 1 Axes>"
      ]
     },
     "metadata": {},
     "output_type": "display_data"
    }
   ],
   "source": [
    "import matplotlib.pyplot as plt\n",
    "plt.plot(arr3,arr4)"
   ]
  },
  {
   "cell_type": "code",
   "execution_count": 43,
   "id": "42f86253",
   "metadata": {},
   "outputs": [
    {
     "name": "stdout",
     "output_type": "stream",
     "text": [
      "[ 2.71828183  7.3890561  20.08553692]\n",
      "[1.         1.41421356 1.73205081]\n",
      "[0.         0.69314718 1.09861229]\n"
     ]
    }
   ],
   "source": [
    "a=np.array([1,2,3])\n",
    "#Exponent of numbers\n",
    "print(np.exp(a))\n",
    "#square root of numbers\n",
    "print(np.sqrt(a))\n",
    "#logrithmic of numbers\n",
    "print(np.log(a))"
   ]
  },
  {
   "cell_type": "code",
   "execution_count": 44,
   "id": "fa378673",
   "metadata": {},
   "outputs": [
    {
     "name": "stdout",
     "output_type": "stream",
     "text": [
      "Sum: 10\n",
      "Mean: 2.5\n",
      "Standard deviation: 1.118033988749895\n",
      "Max: 4\n",
      "Min: 1\n"
     ]
    }
   ],
   "source": [
    "a=np.array([1,2,3,4])\n",
    "print(\"Sum:\",np.sum(a))\n",
    "print(\"Mean:\",np.mean(a))\n",
    "print(\"Standard deviation:\",np.std(a))\n",
    "print(\"Max:\",np.max(a))\n",
    "print(\"Min:\",np.min(a))"
   ]
  },
  {
   "cell_type": "code",
   "execution_count": 45,
   "id": "fb45d6e1",
   "metadata": {},
   "outputs": [
    {
     "name": "stdout",
     "output_type": "stream",
     "text": [
      "[[1 2 3]\n",
      " [4 5 6]]\n"
     ]
    }
   ],
   "source": [
    "arr=np.array([1,2,3,4,5,6])\n",
    "reshaped=arr.reshape(2,3)\n",
    "print(reshaped)"
   ]
  },
  {
   "cell_type": "code",
   "execution_count": 46,
   "id": "769e445b",
   "metadata": {},
   "outputs": [
    {
     "name": "stdout",
     "output_type": "stream",
     "text": [
      "[[1 2]\n",
      " [3 4]]\n",
      "[1 2 3 4]\n"
     ]
    }
   ],
   "source": [
    "a=np.array([1,2])\n",
    "b=np.array([3,4])\n",
    "#vertical stack\n",
    "print(np.vstack((a,b)))\n",
    "#Horizontal stack\n",
    "print(np.hstack((a,b)))"
   ]
  },
  {
   "cell_type": "code",
   "execution_count": 48,
   "id": "3fbfe03a",
   "metadata": {},
   "outputs": [
    {
     "name": "stdout",
     "output_type": "stream",
     "text": [
      "[array([1, 2]), array([3, 4]), array([5, 6])]\n"
     ]
    }
   ],
   "source": [
    "arr=np.array([1,2,3,4,5,6])\n",
    "#split into three parts\n",
    "print(np.array_split(arr,3))"
   ]
  },
  {
   "cell_type": "code",
   "execution_count": 50,
   "id": "fa5990e0",
   "metadata": {},
   "outputs": [
    {
     "name": "stdout",
     "output_type": "stream",
     "text": [
      "[10  2  3]\n",
      "[10  2  3]\n"
     ]
    }
   ],
   "source": [
    "#copying vs view \n",
    "#view share memory\n",
    "arr=np.array([1,2,3])\n",
    "view=arr.view()\n",
    "view[0]=10\n",
    "print(arr)\n",
    "#copy does not shre memory\n",
    "copy=arr.copy()\n",
    "copy[0]=100\n",
    "print(arr)"
   ]
  },
  {
   "cell_type": "code",
   "execution_count": 51,
   "id": "40e4364c",
   "metadata": {},
   "outputs": [],
   "source": [
    "#Saving and loading\n",
    "arr=np.array([1,2,3])\n",
    "np.save('array.npy',arr)"
   ]
  },
  {
   "cell_type": "code",
   "execution_count": 55,
   "id": "acad14f8",
   "metadata": {},
   "outputs": [
    {
     "name": "stdout",
     "output_type": "stream",
     "text": [
      "[1 2 3]\n"
     ]
    }
   ],
   "source": [
    "#loading from a file\n",
    "loaded_arr=np.load('array.npy')\n",
    "print(loaded_arr)"
   ]
  },
  {
   "cell_type": "code",
   "execution_count": null,
   "id": "cbba2d95",
   "metadata": {},
   "outputs": [],
   "source": []
  }
 ],
 "metadata": {
  "kernelspec": {
   "display_name": "Python 3 (ipykernel)",
   "language": "python",
   "name": "python3"
  },
  "language_info": {
   "codemirror_mode": {
    "name": "ipython",
    "version": 3
   },
   "file_extension": ".py",
   "mimetype": "text/x-python",
   "name": "python",
   "nbconvert_exporter": "python",
   "pygments_lexer": "ipython3",
   "version": "3.11.5"
  }
 },
 "nbformat": 4,
 "nbformat_minor": 5
}
